{
 "cells": [
  {
   "cell_type": "code",
   "execution_count": 6,
   "id": "d1f46d34",
   "metadata": {},
   "outputs": [],
   "source": [
    "from selenium import webdriver\n",
    "from bs4 import BeautifulSoup\n",
    "import pandas as pd\n",
    "import time"
   ]
  },
  {
   "cell_type": "code",
   "execution_count": 7,
   "id": "674c97f7",
   "metadata": {},
   "outputs": [],
   "source": [
    "def setup_driver():\n",
    "    # Set up the Selenium WebDriver (using Chrome here)\n",
    "    options = webdriver.ChromeOptions()\n",
    "    options.add_argument('--headless')  # Run in headless mode for efficiency\n",
    "    driver = webdriver.Chrome(options=options)\n",
    "    return driver\n"
   ]
  },
  {
   "cell_type": "code",
   "execution_count": 8,
   "id": "ce7e17a8",
   "metadata": {},
   "outputs": [],
   "source": [
    "def get_page_content_selenium(driver, url):\n",
    "    try:\n",
    "        driver.get(url)  # Load the page\n",
    "        time.sleep(2)    # Allow time for JavaScript to execute\n",
    "        return driver.page_source  # Get the rendered HTML\n",
    "    except Exception as e:\n",
    "        print(f\"Error loading {url}: {e}\")\n",
    "        return None\n"
   ]
  },
  {
   "cell_type": "code",
   "execution_count": 9,
   "id": "035aa8ca",
   "metadata": {},
   "outputs": [],
   "source": [
    "def scrape_genz_marketing_with_selenium(base_url):\n",
    "    driver = setup_driver()  # Initialize the WebDriver\n",
    "    scraped_data = []\n",
    "\n",
    "    try:\n",
    "        # Get homepage content\n",
    "        homepage_content = get_page_content_selenium(driver, base_url)\n",
    "        if not homepage_content:\n",
    "            return scraped_data\n",
    "        \n",
    "        soup = BeautifulSoup(homepage_content, 'html.parser')\n",
    "\n",
    "        # Extract all links from the homepage\n",
    "        links = soup.find_all('a', href=True)\n",
    "        for link in links:\n",
    "            page_url = link['href']\n",
    "            # Handle relative URLs\n",
    "            if not page_url.startswith('http'):\n",
    "                page_url = base_url.rstrip('/') + '/' + page_url.lstrip('/')\n",
    "\n",
    "            # Get content from each linked page\n",
    "            page_content = get_page_content_selenium(driver, page_url)\n",
    "            if not page_content:\n",
    "                continue\n",
    "\n",
    "            page_soup = BeautifulSoup(page_content, 'html.parser')\n",
    "\n",
    "            # Extract title and main content\n",
    "            title = page_soup.title.string if page_soup.title else \"No Title\"\n",
    "            content = ' '.join(page_soup.stripped_strings)\n",
    "\n",
    "            scraped_data.append({\n",
    "                'title': title,\n",
    "                'url': page_url,\n",
    "                'content': content\n",
    "            })\n",
    "\n",
    "    finally:\n",
    "        driver.quit()  # Ensure the driver is closed\n",
    "\n",
    "    return scraped_data\n"
   ]
  },
  {
   "cell_type": "code",
   "execution_count": 10,
   "id": "f5368426",
   "metadata": {},
   "outputs": [
    {
     "name": "stdout",
     "output_type": "stream",
     "text": [
      "Data scraping completed. File saved as genz_marketing_data.csv\n"
     ]
    }
   ],
   "source": [
    "# Main script to scrape data\n",
    "base_url = \"https://genzmarketing.xyz/\"\n",
    "data = scrape_genz_marketing_with_selenium(base_url)\n",
    "\n",
    "# Save data to CSV\n",
    "if data:\n",
    "    df = pd.DataFrame(data)\n",
    "    output_file = \"genz_marketing_data.csv\"\n",
    "    df.to_csv(output_file, index=False)\n",
    "    print(f\"Data scraping completed. File saved as {output_file}\")\n",
    "else:\n",
    "    print(\"No data scraped.\")\n"
   ]
  }
 ],
 "metadata": {
  "kernelspec": {
   "display_name": "venv",
   "language": "python",
   "name": "python3"
  },
  "language_info": {
   "codemirror_mode": {
    "name": "ipython",
    "version": 3
   },
   "file_extension": ".py",
   "mimetype": "text/x-python",
   "name": "python",
   "nbconvert_exporter": "python",
   "pygments_lexer": "ipython3",
   "version": "3.11.0"
  }
 },
 "nbformat": 4,
 "nbformat_minor": 5
}
