{
 "cells": [
  {
   "cell_type": "code",
   "execution_count": 31,
   "metadata": {},
   "outputs": [],
   "source": [
    "import pandas as pd"
   ]
  },
  {
   "cell_type": "code",
   "execution_count": 32,
   "metadata": {},
   "outputs": [],
   "source": [
    "data = pd.read_csv('../data-scraping/genz_marketing_data.csv')"
   ]
  },
  {
   "cell_type": "code",
   "execution_count": 33,
   "metadata": {},
   "outputs": [
    {
     "data": {
      "text/html": [
       "<div>\n",
       "<style scoped>\n",
       "    .dataframe tbody tr th:only-of-type {\n",
       "        vertical-align: middle;\n",
       "    }\n",
       "\n",
       "    .dataframe tbody tr th {\n",
       "        vertical-align: top;\n",
       "    }\n",
       "\n",
       "    .dataframe thead th {\n",
       "        text-align: right;\n",
       "    }\n",
       "</style>\n",
       "<table border=\"1\" class=\"dataframe\">\n",
       "  <thead>\n",
       "    <tr style=\"text-align: right;\">\n",
       "      <th></th>\n",
       "      <th>title</th>\n",
       "      <th>url</th>\n",
       "      <th>content</th>\n",
       "    </tr>\n",
       "  </thead>\n",
       "  <tbody>\n",
       "    <tr>\n",
       "      <th>0</th>\n",
       "      <td>Grow Your Brand with GenZ Marketing's Full Dig...</td>\n",
       "      <td>https://genzmarketing.xyz</td>\n",
       "      <td>Grow Your Brand with GenZ Marketing's Full Dig...</td>\n",
       "    </tr>\n",
       "    <tr>\n",
       "      <th>1</th>\n",
       "      <td>Grow Your Brand with GenZ Marketing's Full Dig...</td>\n",
       "      <td>https://genzmarketing.xyz</td>\n",
       "      <td>Grow Your Brand with GenZ Marketing's Full Dig...</td>\n",
       "    </tr>\n",
       "    <tr>\n",
       "      <th>2</th>\n",
       "      <td>| About Us\\n</td>\n",
       "      <td>https://genzmarketing.xyz/about_us</td>\n",
       "      <td>| About Us Loading... Home About Us Services P...</td>\n",
       "    </tr>\n",
       "    <tr>\n",
       "      <th>3</th>\n",
       "      <td>Services | GenZMarketing</td>\n",
       "      <td>https://genzmarketing.xyz/services</td>\n",
       "      <td>Services | GenZMarketing Loading... Home About...</td>\n",
       "    </tr>\n",
       "    <tr>\n",
       "      <th>4</th>\n",
       "      <td>| Portfolio\\n</td>\n",
       "      <td>https://genzmarketing.xyz/portfolio</td>\n",
       "      <td>| Portfolio Loading... Home About Us Services ...</td>\n",
       "    </tr>\n",
       "    <tr>\n",
       "      <th>...</th>\n",
       "      <td>...</td>\n",
       "      <td>...</td>\n",
       "      <td>...</td>\n",
       "    </tr>\n",
       "    <tr>\n",
       "      <th>173</th>\n",
       "      <td>Attempt to read property \"title\" on null</td>\n",
       "      <td>https://genzmarketing.xyz/javascript:void(0);</td>\n",
       "      <td>Attempt to read property \"title\" on null Spati...</td>\n",
       "    </tr>\n",
       "    <tr>\n",
       "      <th>174</th>\n",
       "      <td>Attempt to read property \"title\" on null</td>\n",
       "      <td>https://genzmarketing.xyz/javascript:void(0);</td>\n",
       "      <td>Attempt to read property \"title\" on null Spati...</td>\n",
       "    </tr>\n",
       "    <tr>\n",
       "      <th>175</th>\n",
       "      <td>Home | Timerni\\n</td>\n",
       "      <td>https://timerni.com/</td>\n",
       "      <td>Home | Timerni Home Services Projects Contact ...</td>\n",
       "    </tr>\n",
       "    <tr>\n",
       "      <th>176</th>\n",
       "      <td>Site Information | Timerni\\n</td>\n",
       "      <td>https://timerni.com/setting/privacy-policy</td>\n",
       "      <td>Site Information | Timerni Home Services Proje...</td>\n",
       "    </tr>\n",
       "    <tr>\n",
       "      <th>177</th>\n",
       "      <td>Site Information | Timerni\\n</td>\n",
       "      <td>https://timerni.com/setting/terms-condition</td>\n",
       "      <td>Site Information | Timerni Home Services Proje...</td>\n",
       "    </tr>\n",
       "  </tbody>\n",
       "</table>\n",
       "<p>178 rows × 3 columns</p>\n",
       "</div>"
      ],
      "text/plain": [
       "                                                 title  \\\n",
       "0    Grow Your Brand with GenZ Marketing's Full Dig...   \n",
       "1    Grow Your Brand with GenZ Marketing's Full Dig...   \n",
       "2                                         | About Us\\n   \n",
       "3                             Services | GenZMarketing   \n",
       "4                                        | Portfolio\\n   \n",
       "..                                                 ...   \n",
       "173           Attempt to read property \"title\" on null   \n",
       "174           Attempt to read property \"title\" on null   \n",
       "175                                   Home | Timerni\\n   \n",
       "176                       Site Information | Timerni\\n   \n",
       "177                       Site Information | Timerni\\n   \n",
       "\n",
       "                                               url  \\\n",
       "0                        https://genzmarketing.xyz   \n",
       "1                        https://genzmarketing.xyz   \n",
       "2               https://genzmarketing.xyz/about_us   \n",
       "3               https://genzmarketing.xyz/services   \n",
       "4              https://genzmarketing.xyz/portfolio   \n",
       "..                                             ...   \n",
       "173  https://genzmarketing.xyz/javascript:void(0);   \n",
       "174  https://genzmarketing.xyz/javascript:void(0);   \n",
       "175                           https://timerni.com/   \n",
       "176     https://timerni.com/setting/privacy-policy   \n",
       "177    https://timerni.com/setting/terms-condition   \n",
       "\n",
       "                                               content  \n",
       "0    Grow Your Brand with GenZ Marketing's Full Dig...  \n",
       "1    Grow Your Brand with GenZ Marketing's Full Dig...  \n",
       "2    | About Us Loading... Home About Us Services P...  \n",
       "3    Services | GenZMarketing Loading... Home About...  \n",
       "4    | Portfolio Loading... Home About Us Services ...  \n",
       "..                                                 ...  \n",
       "173  Attempt to read property \"title\" on null Spati...  \n",
       "174  Attempt to read property \"title\" on null Spati...  \n",
       "175  Home | Timerni Home Services Projects Contact ...  \n",
       "176  Site Information | Timerni Home Services Proje...  \n",
       "177  Site Information | Timerni Home Services Proje...  \n",
       "\n",
       "[178 rows x 3 columns]"
      ]
     },
     "execution_count": 33,
     "metadata": {},
     "output_type": "execute_result"
    }
   ],
   "source": [
    "data"
   ]
  },
  {
   "cell_type": "code",
   "execution_count": 34,
   "metadata": {},
   "outputs": [
    {
     "name": "stdout",
     "output_type": "stream",
     "text": [
      "<class 'pandas.core.frame.DataFrame'>\n",
      "RangeIndex: 178 entries, 0 to 177\n",
      "Data columns (total 3 columns):\n",
      " #   Column   Non-Null Count  Dtype \n",
      "---  ------   --------------  ----- \n",
      " 0   title    172 non-null    object\n",
      " 1   url      178 non-null    object\n",
      " 2   content  178 non-null    object\n",
      "dtypes: object(3)\n",
      "memory usage: 4.3+ KB\n"
     ]
    }
   ],
   "source": [
    "data.info()"
   ]
  },
  {
   "cell_type": "code",
   "execution_count": 35,
   "metadata": {},
   "outputs": [
    {
     "name": "stdout",
     "output_type": "stream",
     "text": [
      "title      6\n",
      "url        0\n",
      "content    0\n",
      "dtype: int64\n"
     ]
    }
   ],
   "source": [
    "# Check for missing values in the dataframe\n",
    "missing_values = data.isnull().sum()\n",
    "print(missing_values)"
   ]
  },
  {
   "cell_type": "code",
   "execution_count": 37,
   "metadata": {},
   "outputs": [
    {
     "data": {
      "text/html": [
       "<div>\n",
       "<style scoped>\n",
       "    .dataframe tbody tr th:only-of-type {\n",
       "        vertical-align: middle;\n",
       "    }\n",
       "\n",
       "    .dataframe tbody tr th {\n",
       "        vertical-align: top;\n",
       "    }\n",
       "\n",
       "    .dataframe thead th {\n",
       "        text-align: right;\n",
       "    }\n",
       "</style>\n",
       "<table border=\"1\" class=\"dataframe\">\n",
       "  <thead>\n",
       "    <tr style=\"text-align: right;\">\n",
       "      <th></th>\n",
       "      <th>title</th>\n",
       "      <th>url</th>\n",
       "      <th>content</th>\n",
       "    </tr>\n",
       "  </thead>\n",
       "  <tbody>\n",
       "    <tr>\n",
       "      <th>47</th>\n",
       "      <td>NaN</td>\n",
       "      <td>https://genzmarketing.xyz/service-CC</td>\n",
       "      <td>Loading... Home About Us Services Portfolio Bo...</td>\n",
       "    </tr>\n",
       "    <tr>\n",
       "      <th>48</th>\n",
       "      <td>NaN</td>\n",
       "      <td>https://genzmarketing.xyz/service-SMM</td>\n",
       "      <td>Loading... Home About Us Services Portfolio Bo...</td>\n",
       "    </tr>\n",
       "    <tr>\n",
       "      <th>49</th>\n",
       "      <td>NaN</td>\n",
       "      <td>https://genzmarketing.xyz/service-CeM</td>\n",
       "      <td>Loading... Home About Us Services Portfolio Bo...</td>\n",
       "    </tr>\n",
       "    <tr>\n",
       "      <th>50</th>\n",
       "      <td>NaN</td>\n",
       "      <td>https://genzmarketing.xyz/service-SMC</td>\n",
       "      <td>Loading... Home About Us Services Portfolio Bo...</td>\n",
       "    </tr>\n",
       "    <tr>\n",
       "      <th>51</th>\n",
       "      <td>NaN</td>\n",
       "      <td>https://genzmarketing.xyz/service-CT</td>\n",
       "      <td>Loading... Home About Us Services Portfolio Bo...</td>\n",
       "    </tr>\n",
       "    <tr>\n",
       "      <th>52</th>\n",
       "      <td>NaN</td>\n",
       "      <td>https://genzmarketing.xyz/service-PRC</td>\n",
       "      <td>Loading... Home About Us Services Portfolio Bo...</td>\n",
       "    </tr>\n",
       "  </tbody>\n",
       "</table>\n",
       "</div>"
      ],
      "text/plain": [
       "   title                                    url  \\\n",
       "47   NaN   https://genzmarketing.xyz/service-CC   \n",
       "48   NaN  https://genzmarketing.xyz/service-SMM   \n",
       "49   NaN  https://genzmarketing.xyz/service-CeM   \n",
       "50   NaN  https://genzmarketing.xyz/service-SMC   \n",
       "51   NaN   https://genzmarketing.xyz/service-CT   \n",
       "52   NaN  https://genzmarketing.xyz/service-PRC   \n",
       "\n",
       "                                              content  \n",
       "47  Loading... Home About Us Services Portfolio Bo...  \n",
       "48  Loading... Home About Us Services Portfolio Bo...  \n",
       "49  Loading... Home About Us Services Portfolio Bo...  \n",
       "50  Loading... Home About Us Services Portfolio Bo...  \n",
       "51  Loading... Home About Us Services Portfolio Bo...  \n",
       "52  Loading... Home About Us Services Portfolio Bo...  "
      ]
     },
     "execution_count": 37,
     "metadata": {},
     "output_type": "execute_result"
    }
   ],
   "source": [
    "# Display rows with missing values\n",
    "missing_rows = data[data.isnull().any(axis=1)]\n",
    "missing_rows"
   ]
  },
  {
   "cell_type": "code",
   "execution_count": 38,
   "metadata": {},
   "outputs": [],
   "source": [
    "# Handle missing values\n",
    "data['title'] = data['title'].fillna(\"Untitled\")"
   ]
  },
  {
   "cell_type": "code",
   "execution_count": 39,
   "metadata": {},
   "outputs": [
    {
     "data": {
      "text/html": [
       "<div>\n",
       "<style scoped>\n",
       "    .dataframe tbody tr th:only-of-type {\n",
       "        vertical-align: middle;\n",
       "    }\n",
       "\n",
       "    .dataframe tbody tr th {\n",
       "        vertical-align: top;\n",
       "    }\n",
       "\n",
       "    .dataframe thead th {\n",
       "        text-align: right;\n",
       "    }\n",
       "</style>\n",
       "<table border=\"1\" class=\"dataframe\">\n",
       "  <thead>\n",
       "    <tr style=\"text-align: right;\">\n",
       "      <th></th>\n",
       "      <th>title</th>\n",
       "      <th>url</th>\n",
       "      <th>content</th>\n",
       "    </tr>\n",
       "  </thead>\n",
       "  <tbody>\n",
       "    <tr>\n",
       "      <th>0</th>\n",
       "      <td>Grow Your Brand with GenZ Marketing's Full Dig...</td>\n",
       "      <td>https://genzmarketing.xyz</td>\n",
       "      <td>Grow Your Brand with GenZ Marketing's Full Dig...</td>\n",
       "    </tr>\n",
       "    <tr>\n",
       "      <th>1</th>\n",
       "      <td>Grow Your Brand with GenZ Marketing's Full Dig...</td>\n",
       "      <td>https://genzmarketing.xyz</td>\n",
       "      <td>Grow Your Brand with GenZ Marketing's Full Dig...</td>\n",
       "    </tr>\n",
       "    <tr>\n",
       "      <th>2</th>\n",
       "      <td>| About Us\\n</td>\n",
       "      <td>https://genzmarketing.xyz/about_us</td>\n",
       "      <td>| About Us Loading... Home About Us Services P...</td>\n",
       "    </tr>\n",
       "    <tr>\n",
       "      <th>3</th>\n",
       "      <td>Services | GenZMarketing</td>\n",
       "      <td>https://genzmarketing.xyz/services</td>\n",
       "      <td>Services | GenZMarketing Loading... Home About...</td>\n",
       "    </tr>\n",
       "    <tr>\n",
       "      <th>4</th>\n",
       "      <td>| Portfolio\\n</td>\n",
       "      <td>https://genzmarketing.xyz/portfolio</td>\n",
       "      <td>| Portfolio Loading... Home About Us Services ...</td>\n",
       "    </tr>\n",
       "    <tr>\n",
       "      <th>...</th>\n",
       "      <td>...</td>\n",
       "      <td>...</td>\n",
       "      <td>...</td>\n",
       "    </tr>\n",
       "    <tr>\n",
       "      <th>173</th>\n",
       "      <td>Attempt to read property \"title\" on null</td>\n",
       "      <td>https://genzmarketing.xyz/javascript:void(0);</td>\n",
       "      <td>Attempt to read property \"title\" on null Spati...</td>\n",
       "    </tr>\n",
       "    <tr>\n",
       "      <th>174</th>\n",
       "      <td>Attempt to read property \"title\" on null</td>\n",
       "      <td>https://genzmarketing.xyz/javascript:void(0);</td>\n",
       "      <td>Attempt to read property \"title\" on null Spati...</td>\n",
       "    </tr>\n",
       "    <tr>\n",
       "      <th>175</th>\n",
       "      <td>Home | Timerni\\n</td>\n",
       "      <td>https://timerni.com/</td>\n",
       "      <td>Home | Timerni Home Services Projects Contact ...</td>\n",
       "    </tr>\n",
       "    <tr>\n",
       "      <th>176</th>\n",
       "      <td>Site Information | Timerni\\n</td>\n",
       "      <td>https://timerni.com/setting/privacy-policy</td>\n",
       "      <td>Site Information | Timerni Home Services Proje...</td>\n",
       "    </tr>\n",
       "    <tr>\n",
       "      <th>177</th>\n",
       "      <td>Site Information | Timerni\\n</td>\n",
       "      <td>https://timerni.com/setting/terms-condition</td>\n",
       "      <td>Site Information | Timerni Home Services Proje...</td>\n",
       "    </tr>\n",
       "  </tbody>\n",
       "</table>\n",
       "<p>178 rows × 3 columns</p>\n",
       "</div>"
      ],
      "text/plain": [
       "                                                 title  \\\n",
       "0    Grow Your Brand with GenZ Marketing's Full Dig...   \n",
       "1    Grow Your Brand with GenZ Marketing's Full Dig...   \n",
       "2                                         | About Us\\n   \n",
       "3                             Services | GenZMarketing   \n",
       "4                                        | Portfolio\\n   \n",
       "..                                                 ...   \n",
       "173           Attempt to read property \"title\" on null   \n",
       "174           Attempt to read property \"title\" on null   \n",
       "175                                   Home | Timerni\\n   \n",
       "176                       Site Information | Timerni\\n   \n",
       "177                       Site Information | Timerni\\n   \n",
       "\n",
       "                                               url  \\\n",
       "0                        https://genzmarketing.xyz   \n",
       "1                        https://genzmarketing.xyz   \n",
       "2               https://genzmarketing.xyz/about_us   \n",
       "3               https://genzmarketing.xyz/services   \n",
       "4              https://genzmarketing.xyz/portfolio   \n",
       "..                                             ...   \n",
       "173  https://genzmarketing.xyz/javascript:void(0);   \n",
       "174  https://genzmarketing.xyz/javascript:void(0);   \n",
       "175                           https://timerni.com/   \n",
       "176     https://timerni.com/setting/privacy-policy   \n",
       "177    https://timerni.com/setting/terms-condition   \n",
       "\n",
       "                                               content  \n",
       "0    Grow Your Brand with GenZ Marketing's Full Dig...  \n",
       "1    Grow Your Brand with GenZ Marketing's Full Dig...  \n",
       "2    | About Us Loading... Home About Us Services P...  \n",
       "3    Services | GenZMarketing Loading... Home About...  \n",
       "4    | Portfolio Loading... Home About Us Services ...  \n",
       "..                                                 ...  \n",
       "173  Attempt to read property \"title\" on null Spati...  \n",
       "174  Attempt to read property \"title\" on null Spati...  \n",
       "175  Home | Timerni Home Services Projects Contact ...  \n",
       "176  Site Information | Timerni Home Services Proje...  \n",
       "177  Site Information | Timerni Home Services Proje...  \n",
       "\n",
       "[178 rows x 3 columns]"
      ]
     },
     "execution_count": 39,
     "metadata": {},
     "output_type": "execute_result"
    }
   ],
   "source": [
    "data"
   ]
  },
  {
   "cell_type": "code",
   "execution_count": 40,
   "metadata": {},
   "outputs": [
    {
     "name": "stdout",
     "output_type": "stream",
     "text": [
      "title      0\n",
      "url        0\n",
      "content    0\n",
      "dtype: int64\n"
     ]
    }
   ],
   "source": [
    "# Check for missing values in the dataframe\n",
    "missing_values = data.isnull().sum()\n",
    "print(missing_values)"
   ]
  },
  {
   "cell_type": "code",
   "execution_count": 42,
   "metadata": {},
   "outputs": [
    {
     "data": {
      "text/html": [
       "<div>\n",
       "<style scoped>\n",
       "    .dataframe tbody tr th:only-of-type {\n",
       "        vertical-align: middle;\n",
       "    }\n",
       "\n",
       "    .dataframe tbody tr th {\n",
       "        vertical-align: top;\n",
       "    }\n",
       "\n",
       "    .dataframe thead th {\n",
       "        text-align: right;\n",
       "    }\n",
       "</style>\n",
       "<table border=\"1\" class=\"dataframe\">\n",
       "  <thead>\n",
       "    <tr style=\"text-align: right;\">\n",
       "      <th></th>\n",
       "      <th>title</th>\n",
       "      <th>url</th>\n",
       "      <th>content</th>\n",
       "    </tr>\n",
       "  </thead>\n",
       "  <tbody>\n",
       "    <tr>\n",
       "      <th>0</th>\n",
       "      <td>Grow Your Brand with GenZ Marketing's Full Dig...</td>\n",
       "      <td>https://genzmarketing.xyz</td>\n",
       "      <td>Grow Your Brand with GenZ Marketing's Full Dig...</td>\n",
       "    </tr>\n",
       "    <tr>\n",
       "      <th>1</th>\n",
       "      <td>Grow Your Brand with GenZ Marketing's Full Dig...</td>\n",
       "      <td>https://genzmarketing.xyz</td>\n",
       "      <td>Grow Your Brand with GenZ Marketing's Full Dig...</td>\n",
       "    </tr>\n",
       "    <tr>\n",
       "      <th>2</th>\n",
       "      <td>About Us</td>\n",
       "      <td>https://genzmarketing.xyz/about_us</td>\n",
       "      <td>About Us Loading... Home About Us Services Po...</td>\n",
       "    </tr>\n",
       "    <tr>\n",
       "      <th>3</th>\n",
       "      <td>Services  GenZMarketing</td>\n",
       "      <td>https://genzmarketing.xyz/services</td>\n",
       "      <td>Services  GenZMarketing Loading... Home About ...</td>\n",
       "    </tr>\n",
       "    <tr>\n",
       "      <th>4</th>\n",
       "      <td>Portfolio</td>\n",
       "      <td>https://genzmarketing.xyz/portfolio</td>\n",
       "      <td>Portfolio Loading... Home About Us Services P...</td>\n",
       "    </tr>\n",
       "  </tbody>\n",
       "</table>\n",
       "</div>"
      ],
      "text/plain": [
       "                                               title  \\\n",
       "0  Grow Your Brand with GenZ Marketing's Full Dig...   \n",
       "1  Grow Your Brand with GenZ Marketing's Full Dig...   \n",
       "2                                           About Us   \n",
       "3                            Services  GenZMarketing   \n",
       "4                                          Portfolio   \n",
       "\n",
       "                                   url  \\\n",
       "0            https://genzmarketing.xyz   \n",
       "1            https://genzmarketing.xyz   \n",
       "2   https://genzmarketing.xyz/about_us   \n",
       "3   https://genzmarketing.xyz/services   \n",
       "4  https://genzmarketing.xyz/portfolio   \n",
       "\n",
       "                                             content  \n",
       "0  Grow Your Brand with GenZ Marketing's Full Dig...  \n",
       "1  Grow Your Brand with GenZ Marketing's Full Dig...  \n",
       "2   About Us Loading... Home About Us Services Po...  \n",
       "3  Services  GenZMarketing Loading... Home About ...  \n",
       "4   Portfolio Loading... Home About Us Services P...  "
      ]
     },
     "execution_count": 42,
     "metadata": {},
     "output_type": "execute_result"
    }
   ],
   "source": [
    "# Remove unwanted characters from the 'title' and 'content' columns\n",
    "data['title'] = data['title'].str.replace(r'[|<>\\r\\n]', '', regex=True)\n",
    "data['content'] = data['content'].str.replace(r'[|<>\\r\\n]', '', regex=True)\n",
    "\n",
    "# Display the cleaned dataset\n",
    "data.head(5)"
   ]
  },
  {
   "cell_type": "code",
   "execution_count": 44,
   "metadata": {},
   "outputs": [
    {
     "name": "stdout",
     "output_type": "stream",
     "text": [
      "0      Grow Your Brand with GenZ Marketing's Full Dig...\n",
      "1      Grow Your Brand with GenZ Marketing's Full Dig...\n",
      "2                                               About Us\n",
      "3                                Services  GenZMarketing\n",
      "4                                              Portfolio\n",
      "                             ...                        \n",
      "173             Attempt to read property \"title\" on null\n",
      "174             Attempt to read property \"title\" on null\n",
      "175                                        Home  Timerni\n",
      "176                            Site Information  Timerni\n",
      "177                            Site Information  Timerni\n",
      "Name: title, Length: 178, dtype: object\n"
     ]
    }
   ],
   "source": [
    "# Ensure consistent formatting\n",
    "data['content'] = data['content'].str.strip()\n",
    "data['title'] = data['title'].str.strip()\n",
    "print(data['title'])"
   ]
  },
  {
   "cell_type": "code",
   "execution_count": 46,
   "metadata": {},
   "outputs": [
    {
     "name": "stdout",
     "output_type": "stream",
     "text": [
      "Grow Your Brand with GenZ Marketing's Full Digital Marketing Solutions\n"
     ]
    }
   ],
   "source": [
    "print(data['title'][1])"
   ]
  },
  {
   "cell_type": "code",
   "execution_count": 47,
   "metadata": {},
   "outputs": [
    {
     "data": {
      "text/plain": [
       "0      Grow Your Brand with GenZ Marketing's Full Dig...\n",
       "1      Grow Your Brand with GenZ Marketing's Full Dig...\n",
       "2                                               About Us\n",
       "3                                Services  GenZMarketing\n",
       "4                                              Portfolio\n",
       "                             ...                        \n",
       "173             Attempt to read property \"title\" on null\n",
       "174             Attempt to read property \"title\" on null\n",
       "175                                        Home  Timerni\n",
       "176                            Site Information  Timerni\n",
       "177                            Site Information  Timerni\n",
       "Name: title, Length: 178, dtype: object"
      ]
     },
     "execution_count": 47,
     "metadata": {},
     "output_type": "execute_result"
    }
   ],
   "source": [
    "# Remove the '( GenZMarketing )' from the 'title' column\n",
    "data['title'] = data['title'].str.replace(r'\\( GenZMarketing \\)', '', regex=True)\n",
    "data['title']"
   ]
  },
  {
   "cell_type": "code",
   "execution_count": 48,
   "metadata": {},
   "outputs": [
    {
     "name": "stdout",
     "output_type": "stream",
     "text": [
      "Portfolio\n"
     ]
    }
   ],
   "source": [
    "print(data['title'][4])"
   ]
  },
  {
   "cell_type": "code",
   "execution_count": 50,
   "metadata": {},
   "outputs": [
    {
     "name": "stdout",
     "output_type": "stream",
     "text": [
      "Grow Your Brand with GenZ Marketing's Full Digital Marketing Solutions Loading... Home About Us Services Portfolio Books Packages Blog Contact Us Get Started Mastering Cold Email Marketing to Captivate the Next Generation! The Ultimate Guide to Cold Email Marketing Success! Our GenZ Cold Email Marketing service is tailored to resonate with the preferences of the next generation. With personalized, relevant, and concise messaging, we cut through the clutter to engage Gen Z recipients effectively. Leveraging data-driven insights and creative content, we drive higher open rates, click-through, and conversions. Build authentic connections and grow your brand's influence among Gen Z with our expert cold email strategies. Get Started INCREASE social selling & your business visibility With our Proven Marketing and Social Selling Strategies You can work with us to increase your social presence and get 100s of qualified prospects every week. Our expert account executives will work with you nonstop to grow your network with a plan and target. Get started with our award-winning Marketing and Accelerator Programme to unleash the power of Social Selling and Cold outreach. It will not only improve your visibility; it will also increase your sales and business growth. Get Started Influence audience with GenZ video advertisements Elevate your brand to reach globally Whether it's for social media, website banners, or YouTube, we tailor each video to tell your unique brand story. With visually stunning visuals and engaging storytelling, our video ads will drive engagement, boost conversions, and elevate your brand's online presence. Let's make your brand the talk of the town with GenZ video advertisements. Get Started Content and Copywriting Strategies for the Next Generation! A strategic content and copy approach allows your brand to stay adaptable and responsive to changing trends. Our Gen Z Marketing Content and Copywriting service empowers brands to connect authentically with the next generation. By crafting engaging, trend-savvy content, we unlock Gen Z's buying potential, boost brand loyalty, and drive conversions. Stay ahead of the competition, maximize social media impact, and future-proof your brand with our adaptable and results-driven approach. Get Started Elevate Your Brand with Innovative Graphics Design! Empowering Your Brand's Voice with Gen Z-Centric Graphics Design! Our Gen Z Marketing Graphics Design Service helps brands make a lasting impact on the next generation. We create visually captivating and trend-focused designs that resonate with Gen Z's preferences and values. From social media graphics to website elements, our solutions ensure your brand stays relevant and engaging, maximizing its appeal to this influential audience. Get Started Empowering Your Team with Training and nailing it with Smart Mentoring! Mastering Gen Z: Training and Mentoring for Next-Gen Marketing Success! Empower your marketing team with specialized Gen Z training, equipping them to understand this unique demographic’s preferences and behaviours. Stay ahead of the curve by smartly mentoring campaigns, tracking social media engagement, content performance, and influencer impact. Stay authentic, data-driven, and innovative to succeed in connecting with the influential Gen Z audience. Get Started Mastering Cold Email Marketing to Captivate the Next Generation! The Ultimate Guide to Cold Email Marketing Success! Our GenZ Cold Email Marketing service is tailored to resonate with the preferences of the next generation. With personalized, relevant, and concise messaging, we cut through the clutter to engage Gen Z recipients effectively. Leveraging data-driven insights and creative content, we drive higher open rates, click-through, and conversions. Build authentic connections and grow your brand's influence among Gen Z with our expert cold email strategies. Get Started INCREASE social selling & your business visibility With our Proven Marketing and Social Selling Strategies You can work with us to increase your social presence and get 100s of qualified prospects every week. Our expert account executives will work with you nonstop to grow your network with a plan and target. Get started with our award-winning Marketing and Accelerator Programme to unleash the power of Social Selling and Cold outreach. It will not only improve your visibility; it will also increase your sales and business growth. Get Started Influence audience with GenZ video advertisements Elevate your brand to reach globally Whether it's for social media, website banners, or YouTube, we tailor each video to tell your unique brand story. With visually stunning visuals and engaging storytelling, our video ads will drive engagement, boost conversions, and elevate your brand's online presence. Let's make your brand the talk of the town with GenZ video advertisements. Get Started Content and Copywriting Strategies for the Next Generation! A strategic content and copy approach allows your brand to stay adaptable and responsive to changing trends. Our Gen Z Marketing Content and Copywriting service empowers brands to connect authentically with the next generation. By crafting engaging, trend-savvy content, we unlock Gen Z's buying potential, boost brand loyalty, and drive conversions. Stay ahead of the competition, maximize social media impact, and future-proof your brand with our adaptable and results-driven approach. Get Started Elevate Your Brand with Innovative Graphics Design! Empowering Your Brand's Voice with Gen Z-Centric Graphics Design! Our Gen Z Marketing Graphics Design Service helps brands make a lasting impact on the next generation. We create visually captivating and trend-focused designs that resonate with Gen Z's preferences and values. From social media graphics to website elements, our solutions ensure your brand stays relevant and engaging, maximizing its appeal to this influential audience. Get Started Empowering Your Team with Training and nailing it with Smart Mentoring! Mastering Gen Z: Training and Mentoring for Next-Gen Marketing Success! Empower your marketing team with specialized Gen Z training, equipping them to understand this unique demographic’s preferences and behaviours. Stay ahead of the curve by smartly mentoring campaigns, tracking social media engagement, content performance, and influencer impact. Stay authentic, data-driven, and innovative to succeed in connecting with the influential Gen Z audience. Get Started Mastering Cold Email Marketing to Captivate the Next Generation! The Ultimate Guide to Cold Email Marketing Success! Our GenZ Cold Email Marketing service is tailored to resonate with the preferences of the next generation. With personalized, relevant, and concise messaging, we cut through the clutter to engage Gen Z recipients effectively. Leveraging data-driven insights and creative content, we drive higher open rates, click-through, and conversions. Build authentic connections and grow your brand's influence among Gen Z with our expert cold email strategies. Get Started 1 2 3 4 5 6 Free Book How to Win in Social Selling? Download this eBook to master in social selling and business growth. When we talk about social selling, it is very difficult for many of us to predict the right formula/s. It is like matchmaking to get a boyfriend or girlfriend. One setting with someone will never satisfy us and we will find some problems to escape them to the next one. It will never stop unless we consider some of our choices. It is common for us when we think of social media that we want: - To engage in social media platforms To research your customer To invest in online presence To create content and contribute new knowledge To become an influencer or social media superstar To boost sales and business growth Download eBook About Social Selling & LinkedIn Marketing Our priority at the GenZ Social Selling and LinkedIn Marketing Services is to understand our client's big idea. We know a product or service is the brainchild of our client's imagination and to work with them we have to place ourselves in the same shoe. Besides, we also know every business is different. Therefore, we will work with our client to create a tailored plan. Understand the product, market proposition, and the audience. Create detailed, dedicated, and targeted social selling plans. Collect audience information to understand their needs. Social media platforms like LinkedIn offer powerful tools for identifying and connecting with potential leads. Establish business relations with each user to extend the network. Through Our Campaign Become a LinkedIn Superstar GenZ Lead Gen & Marketing LinkedIn Lead Generation GenZ Branding LinkedIn Superstar Send a Virtual Hug Running a Small Business? Do you want your company to stand out? Chess isn't always competitive, chess can also be beautiful… Make your own great videos faster than poppin' popcorn Happy hydration day You'll do all the dancing! GenZ Lead Gen & Marketing LinkedIn Lead Generation GenZ Branding LinkedIn Superstar Send a Virtual Hug Running a Small Business? Do you want your company to stand out? Chess isn't always competitive, chess can also be beautiful… Make your own great videos faster than poppin' popcorn Happy hydration day You'll do all the dancing! GenZ Lead Gen & Marketing 1 2 3 4 5 6 7 8 9 10 11 0 Ongoing Projects 0 Projects Completed 0 Our Happy Clients 0 Web Traffic Per Monthly Our Services How Our Expert Team Can Help Contents & Copywriting We can help whether you are a business owner, marketer, or an individual looking for                                excellent written materials... Social Media Management The best place to go for all of your social media management requirements is here. Our                                website is your go-to resource for efficiently managing and maximizing your social media                                presence, regardless of whether you are a business owner, marketer, or influencer. Cold Email Marketing We have a dedicated cold email application for our clients to design and send emails. Either                                you can register yourself with a monthly service plan or we will run the end-to-end service                                for you with our dedicated account managers and executives... Social Media Campaign We research and understand the market to prepare our Social Media Campaign. Our dedicated                                LinkedIn manager will check the performance of each campaign to understand the market and                                audience reach... Coaching & Training We know training and specific subject knowledge is the core of personal development and we                                have the experience to develop training materials for our clients and target audience. Our                                dedicated trainers will work with you to lay out the appropriate materials to attract new                                customers through an in-person and online webinar. PR & Communications Our public relations (PR) and communications help our enterprises, nonprofits, or public                                institutions to manage all media and communication channels to develop, preserve, and manage                                our client's reputations. Our dedicated team will help you to get your stories published in                                national, local, and international newspapers and all sorts of main stream publications. View All Services Our Portfolio How We Can Help View All Protfolio Competitive Analysis Product, Service & Concept Development Marketing Digital Marketing Case Studies Marketing Services and Business Building/Mentoring Programme PR & Communications Public Relation & Business Expansion Cold Email Marketing Email marketing Social Media Management Account management & Run Social Media Campaign Campaign design & Run Branding Logo, Graphics and Branding Training & Mentoring In-person Event & Online Webinar Graphic Designing Social Media Info Graphic Content & Copywriting Newsletter, Content and Copywriting Video Advertisement TV, and Social Media Video AD Social Media Marketing Account management and Email Marketing Competitive Analysis Product, Service & Concept Development Marketing Digital Marketing Case Studies Marketing Services and Business Building/Mentoring Programme PR & Communications Public Relation & Business Expansion Cold Email Marketing Email marketing Social Media Management Account management & Run Social Media Campaign Campaign design & Run Branding Logo, Graphics and Branding Training & Mentoring In-person Event & Online Webinar Graphic Designing Social Media Info Graphic Content & Copywriting Newsletter, Content and Copywriting Video Advertisement TV, and Social Media Video AD Social Media Marketing Account management and Email Marketing Competitive Analysis Product, Service & Concept Development Marketing Digital Marketing 1 2 3 4 5 6 7 8 9 10 11 12 13 Clair Martin Founding Director, Seekers Create C.I.C Dr Shah is a kind and clever person who has overcome many life challenges. He is highly motivated and dedicated to making a positive change in our community. I enjoy working with Dr Shah and believe he will succeed. Cora Burke CEO, Frascati Associates Ltd Shah is a force of nature - which is probably why we get along the way we do. We met at the University of Portsmouth's 2022 Business Consultancy Project and instantly connected, as Neurodivergent people do. He is driven, extremely intelligent, passionate about his work and how he can make it deliver change for humanity, and in everything he does, puts integrity first. Rebecca Leopard CMO, Upgrading Women UK I highly recommend Dr Shah Siddiqui as a mentor to anyone seeking guidance and support in navigating the challenges of entrepreneurship as an immigrant, person of colour, or neurodiverse individual. Shah's wealth of experience and expertise, combined with his compassionate and supportive approach, make him an invaluable resource for anyone looking to achieve their business goals and overcome obstacles along the way. He truly embodies the spirit of resilience and determination, and I feel fortunate to have had the opportunity to work with him. Naomi Smy Operational Hub Lead, Solent LEP Shah has dedicated himself to supporting our Enterprise Adviser roles across the Solent region. This role essentially connects education and industry together for the good of young people and helping to prepare them for the world of work. This is achieved by working with schools in a strategic way and developing/enhancing Careers education and guidance. Shah has been an inspiration since he started, networking with other Enterprise Advisers, supporting events and sharing his own personal experiences and challenges. Jack Smith Property investor, Jack Property Services Shah has been a massive help to me in building my business and the website he has made for me is going to play a big part in building the business. He also helps out a lot of students at Portsmouth University with their business and I'm grateful for him doing so. Clair Martin Founding Director, Seekers Create C.I.C Dr Shah is a kind and clever person who has overcome many life challenges. He is highly motivated and dedicated to making a positive change in our community. I enjoy working with Dr Shah and believe he will succeed. Cora Burke CEO, Frascati Associates Ltd Shah is a force of nature - which is probably why we get along the way we do. We met at the University of Portsmouth's 2022 Business Consultancy Project and instantly connected, as Neurodivergent people do. He is driven, extremely intelligent, passionate about his work and how he can make it deliver change for humanity, and in everything he does, puts integrity first. Rebecca Leopard CMO, Upgrading Women UK I highly recommend Dr Shah Siddiqui as a mentor to anyone seeking guidance and support in navigating the challenges of entrepreneurship as an immigrant, person of colour, or neurodiverse individual. Shah's wealth of experience and expertise, combined with his compassionate and supportive approach, make him an invaluable resource for anyone looking to achieve their business goals and overcome obstacles along the way. He truly embodies the spirit of resilience and determination, and I feel fortunate to have had the opportunity to work with him. Naomi Smy Operational Hub Lead, Solent LEP Shah has dedicated himself to supporting our Enterprise Adviser roles across the Solent region. This role essentially connects education and industry together for the good of young people and helping to prepare them for the world of work. This is achieved by working with schools in a strategic way and developing/enhancing Careers education and guidance. Shah has been an inspiration since he started, networking with other Enterprise Advisers, supporting events and sharing his own personal experiences and challenges. Jack Smith Property investor, Jack Property Services Shah has been a massive help to me in building my business and the website he has made for me is going to play a big part in building the business. He also helps out a lot of students at Portsmouth University with their business and I'm grateful for him doing so. Clair Martin Founding Director, Seekers Create C.I.C Dr Shah is a kind and clever person who has overcome many life challenges. He is highly motivated and dedicated to making a positive change in our community. I enjoy working with Dr Shah and believe he will succeed. 1 2 3 4 5 Testimonials What Our Clients Say We have many happy clients who are delighted with our service and we have included some of their                            testimonials her for you to understand their satisfaction. Give Us Compliments Our Specialists Our Successful Team James Buckley Public Relations and Copywriting Specialist Mahzabin Akter Marketing Executive & Copywriter Tamanna Turin Marketing Executive & Copywriter Dr Shah Siddiqui Social Selling Expert James Buckley Public Relations and Copywriting Specialist Mahzabin Akter Marketing Executive & Copywriter Tamanna Turin Marketing Executive & Copywriter Dr Shah Siddiqui Social Selling Expert James Buckley Public Relations and Copywriting Specialist Mahzabin Akter Marketing Executive & Copywriter Tamanna Turin Marketing Executive & Copywriter 1 2 3 4 Talk to Us Schedule a 30-minute Free Discovery Consultation A Discovery Consultation will help you to understand your market proposition and current marketing strategy. You will also discover ways of lead generation procedure and how you utilise the best option for your business growth. Get In Touch Do you need LinkedIn Account Analysis? Please contact us for a free LinkedIn account analysis and to know more about lead                                        generation success. Our expert LinkedIn team will find a best suitable tailored campaing and account                                        services for you to get more business. Submit Now Our Blog Read Our Latest News Marketing 07 March 2023 By Mahzabin Akter Factors that Affect Portfolio Allocation Read More Marketing 07 March 2023 By Dr Shah Siddiqui Is brand engagement necessary? Read More Marketing 31 March 2023 By Dr Shah Siddiqui The Neurodivergent Business Consortium (NBC) presents: Penny Mordaunt MP Read More Marketing 07 March 2023 By James Buckley Improve your Social presence through Social media management Read More Marketing 02 April 2023 By James Buckley What is Social media marketing? Read More Application 02 April 2023 By James Buckley The necessity of web application development Read More Marketing 07 March 2023 By Dr Shah Siddiqui How Lead Generation Works? Read More Marketing 17 April 2023 By Tamanna Turin How to Increase Web Traffic Using LinkedIn? Read More Marketing 17 April 2023 By Tamanna Turin Instagram Metrics You Should Be Tracking Read More Marketing 25 April 2023 By James Buckley What is Return On Investment (ROI)? Read More Content and Copywriting 11 March 2023 By Dr Shah Siddiqui How ChatGPT can help you to write the company and personal content? Read More Marketing 07 March 2023 By Dr Shah Siddiqui Can Community Service grow your business? Read More SEO 04 July 2024 By Mahzabin Akter Best SEO Agency for Higher Education Read More TESTIMONIALS Submit Now Halpern House, 1-2 Hampshire Terrace, Portsmouth, PO1 2QF +44 (0) 238 094 3967 leadgen@genzmarketing.xyz hello@genzmarketing.xyz Our Links Home About Us FAQs Blog Contact Us Subscribe to Newsletter ! We publish our newsletter with the most up to date information regularly. Please suscribe it to know our work, current affears and services. Subscribe Now Web Development & Copyright © 2023 Time research & innovation Ltd All rights reserved. Privacy Policy Terms and Conditions Submit Now\n"
     ]
    }
   ],
   "source": [
    "print(data['content'][1])"
   ]
  },
  {
   "cell_type": "code",
   "execution_count": 51,
   "metadata": {},
   "outputs": [
    {
     "data": {
      "text/plain": [
       "0      Grow Your Brand with GenZ Marketing's Full Dig...\n",
       "1      Grow Your Brand with GenZ Marketing's Full Dig...\n",
       "2      About Us  Home About Us Services Portfolio Boo...\n",
       "3      Services  GenZMarketing  Home About Us Service...\n",
       "4      Portfolio  Home About Us Services Portfolio Bo...\n",
       "                             ...                        \n",
       "173    Attempt to read property \"title\" on null Spati...\n",
       "174    Attempt to read property \"title\" on null Spati...\n",
       "175    Home  Timerni Home Services Projects Contact U...\n",
       "176    Site Information  Timerni Home Services Projec...\n",
       "177    Site Information  Timerni Home Services Projec...\n",
       "Name: content, Length: 178, dtype: object"
      ]
     },
     "execution_count": 51,
     "metadata": {},
     "output_type": "execute_result"
    }
   ],
   "source": [
    "# Remove the 'Loading...' from the 'content' column\n",
    "data['content'] = data['content'].str.replace(r'Loading...', '', regex=True)\n",
    "data['content']"
   ]
  },
  {
   "cell_type": "code",
   "execution_count": 52,
   "metadata": {},
   "outputs": [
    {
     "name": "stdout",
     "output_type": "stream",
     "text": [
      "Grow Your Brand with GenZ Marketing's Full Digital Marketing Solutions  Home About Us Services Portfolio Books Packages Blog Contact Us Get Started Mastering Cold Email Marketing to Captivate the Next Generation! The Ultimate Guide to Cold Email Marketing Success! Our GenZ Cold Email Marketing service is tailored to resonate with the preferences of the next generation. With personalized, relevant, and concise messaging, we cut through the clutter to engage Gen Z recipients effectively. Leveraging data-driven insights and creative content, we drive higher open rates, click-through, and conversions. Build authentic connections and grow your brand's influence among Gen Z with our expert cold email strategies. Get Started INCREASE social selling & your business visibility With our Proven Marketing and Social Selling Strategies You can work with us to increase your social presence and get 100s of qualified prospects every week. Our expert account executives will work with you nonstop to grow your network with a plan and target. Get started with our award-winning Marketing and Accelerator Programme to unleash the power of Social Selling and Cold outreach. It will not only improve your visibility; it will also increase your sales and business growth. Get Started Influence audience with GenZ video advertisements Elevate your brand to reach globally Whether it's for social media, website banners, or YouTube, we tailor each video to tell your unique brand story. With visually stunning visuals and engaging storytelling, our video ads will drive engagement, boost conversions, and elevate your brand's online presence. Let's make your brand the talk of the town with GenZ video advertisements. Get Started Content and Copywriting Strategies for the Next Generation! A strategic content and copy approach allows your brand to stay adaptable and responsive to changing trends. Our Gen Z Marketing Content and Copywriting service empowers brands to connect authentically with the next generation. By crafting engaging, trend-savvy content, we unlock Gen Z's buying potential, boost brand loyalty, and drive conversions. Stay ahead of the competition, maximize social media impact, and future-proof your brand with our adaptable and results-driven approach. Get Started Elevate Your Brand with Innovative Graphics Design! Empowering Your Brand's Voice with Gen Z-Centric Graphics Design! Our Gen Z Marketing Graphics Design Service helps brands make a lasting impact on the next generation. We create visually captivating and trend-focused designs that resonate with Gen Z's preferences and values. From social media graphics to website elements, our solutions ensure your brand stays relevant and engaging, maximizing its appeal to this influential audience. Get Started Empowering Your Team with Training and nailing it with Smart Mentoring! Mastering Gen Z: Training and Mentoring for Next-Gen Marketing Success! Empower your marketing team with specialized Gen Z training, equipping them to understand this unique demographic’s preferences and behaviours. Stay ahead of the curve by smartly mentoring campaigns, tracking social media engagement, content performance, and influencer impact. Stay authentic, data-driven, and innovative to succeed in connecting with the influential Gen Z audience. Get Started Mastering Cold Email Marketing to Captivate the Next Generation! The Ultimate Guide to Cold Email Marketing Success! Our GenZ Cold Email Marketing service is tailored to resonate with the preferences of the next generation. With personalized, relevant, and concise messaging, we cut through the clutter to engage Gen Z recipients effectively. Leveraging data-driven insights and creative content, we drive higher open rates, click-through, and conversions. Build authentic connections and grow your brand's influence among Gen Z with our expert cold email strategies. Get Started INCREASE social selling & your business visibility With our Proven Marketing and Social Selling Strategies You can work with us to increase your social presence and get 100s of qualified prospects every week. Our expert account executives will work with you nonstop to grow your network with a plan and target. Get started with our award-winning Marketing and Accelerator Programme to unleash the power of Social Selling and Cold outreach. It will not only improve your visibility; it will also increase your sales and business growth. Get Started Influence audience with GenZ video advertisements Elevate your brand to reach globally Whether it's for social media, website banners, or YouTube, we tailor each video to tell your unique brand story. With visually stunning visuals and engaging storytelling, our video ads will drive engagement, boost conversions, and elevate your brand's online presence. Let's make your brand the talk of the town with GenZ video advertisements. Get Started Content and Copywriting Strategies for the Next Generation! A strategic content and copy approach allows your brand to stay adaptable and responsive to changing trends. Our Gen Z Marketing Content and Copywriting service empowers brands to connect authentically with the next generation. By crafting engaging, trend-savvy content, we unlock Gen Z's buying potential, boost brand loyalty, and drive conversions. Stay ahead of the competition, maximize social media impact, and future-proof your brand with our adaptable and results-driven approach. Get Started Elevate Your Brand with Innovative Graphics Design! Empowering Your Brand's Voice with Gen Z-Centric Graphics Design! Our Gen Z Marketing Graphics Design Service helps brands make a lasting impact on the next generation. We create visually captivating and trend-focused designs that resonate with Gen Z's preferences and values. From social media graphics to website elements, our solutions ensure your brand stays relevant and engaging, maximizing its appeal to this influential audience. Get Started Empowering Your Team with Training and nailing it with Smart Mentoring! Mastering Gen Z: Training and Mentoring for Next-Gen Marketing Success! Empower your marketing team with specialized Gen Z training, equipping them to understand this unique demographic’s preferences and behaviours. Stay ahead of the curve by smartly mentoring campaigns, tracking social media engagement, content performance, and influencer impact. Stay authentic, data-driven, and innovative to succeed in connecting with the influential Gen Z audience. Get Started Mastering Cold Email Marketing to Captivate the Next Generation! The Ultimate Guide to Cold Email Marketing Success! Our GenZ Cold Email Marketing service is tailored to resonate with the preferences of the next generation. With personalized, relevant, and concise messaging, we cut through the clutter to engage Gen Z recipients effectively. Leveraging data-driven insights and creative content, we drive higher open rates, click-through, and conversions. Build authentic connections and grow your brand's influence among Gen Z with our expert cold email strategies. Get Started 1 2 3 4 5 6 Free Book How to Win in Social Selling? Download this eBook to master in social selling and business growth. When we talk about social selling, it is very difficult for many of us to predict the right formula/s. It is like matchmaking to get a boyfriend or girlfriend. One setting with someone will never satisfy us and we will find some problems to escape them to the next one. It will never stop unless we consider some of our choices. It is common for us when we think of social media that we want: - To engage in social media platforms To research your customer To invest in online presence To create content and contribute new knowledge To become an influencer or social media superstar To boost sales and business growth Download eBook About Social Selling & LinkedIn Marketing Our priority at the GenZ Social Selling and LinkedIn Marketing Services is to understand our client's big idea. We know a product or service is the brainchild of our client's imagination and to work with them we have to place ourselves in the same shoe. Besides, we also know every business is different. Therefore, we will work with our client to create a tailored plan. Understand the product, market proposition, and the audience. Create detailed, dedicated, and targeted social selling plans. Collect audience information to understand their needs. Social media platforms like LinkedIn offer powerful tools for identifying and connecting with potential leads. Establish business relations with each user to extend the network. Through Our Campaign Become a LinkedIn Superstar GenZ Lead Gen & Marketing LinkedIn Lead Generation GenZ Branding LinkedIn Superstar Send a Virtual Hug Running a Small Business? Do you want your company to stand out? Chess isn't always competitive, chess can also be beautiful… Make your own great videos faster than poppin' popcorn Happy hydration day You'll do all the dancing! GenZ Lead Gen & Marketing LinkedIn Lead Generation GenZ Branding LinkedIn Superstar Send a Virtual Hug Running a Small Business? Do you want your company to stand out? Chess isn't always competitive, chess can also be beautiful… Make your own great videos faster than poppin' popcorn Happy hydration day You'll do all the dancing! GenZ Lead Gen & Marketing 1 2 3 4 5 6 7 8 9 10 11 0 Ongoing Projects 0 Projects Completed 0 Our Happy Clients 0 Web Traffic Per Monthly Our Services How Our Expert Team Can Help Contents & Copywriting We can help whether you are a business owner, marketer, or an individual looking for                                excellent written materials... Social Media Management The best place to go for all of your social media management requirements is here. Our                                website is your go-to resource for efficiently managing and maximizing your social media                                presence, regardless of whether you are a business owner, marketer, or influencer. Cold Email Marketing We have a dedicated cold email application for our clients to design and send emails. Either                                you can register yourself with a monthly service plan or we will run the end-to-end service                                for you with our dedicated account managers and executives... Social Media Campaign We research and understand the market to prepare our Social Media Campaign. Our dedicated                                LinkedIn manager will check the performance of each campaign to understand the market and                                audience reach... Coaching & Training We know training and specific subject knowledge is the core of personal development and we                                have the experience to develop training materials for our clients and target audience. Our                                dedicated trainers will work with you to lay out the appropriate materials to attract new                                customers through an in-person and online webinar. PR & Communications Our public relations (PR) and communications help our enterprises, nonprofits, or public                                institutions to manage all media and communication channels to develop, preserve, and manage                                our client's reputations. Our dedicated team will help you to get your stories published in                                national, local, and international newspapers and all sorts of main stream publications. View All Services Our Portfolio How We Can Help View All Protfolio Competitive Analysis Product, Service & Concept Development Marketing Digital Marketing Case Studies Marketing Services and Business Building/Mentoring Programme PR & Communications Public Relation & Business Expansion Cold Email Marketing Email marketing Social Media Management Account management & Run Social Media Campaign Campaign design & Run Branding Logo, Graphics and Branding Training & Mentoring In-person Event & Online Webinar Graphic Designing Social Media Info Graphic Content & Copywriting Newsletter, Content and Copywriting Video Advertisement TV, and Social Media Video AD Social Media Marketing Account management and Email Marketing Competitive Analysis Product, Service & Concept Development Marketing Digital Marketing Case Studies Marketing Services and Business Building/Mentoring Programme PR & Communications Public Relation & Business Expansion Cold Email Marketing Email marketing Social Media Management Account management & Run Social Media Campaign Campaign design & Run Branding Logo, Graphics and Branding Training & Mentoring In-person Event & Online Webinar Graphic Designing Social Media Info Graphic Content & Copywriting Newsletter, Content and Copywriting Video Advertisement TV, and Social Media Video AD Social Media Marketing Account management and Email Marketing Competitive Analysis Product, Service & Concept Development Marketing Digital Marketing 1 2 3 4 5 6 7 8 9 10 11 12 13 Clair Martin Founding Director, Seekers Create C.I.C Dr Shah is a kind and clever person who has overcome many life challenges. He is highly motivated and dedicated to making a positive change in our community. I enjoy working with Dr Shah and believe he will succeed. Cora Burke CEO, Frascati Associates Ltd Shah is a force of nature - which is probably why we get along the way we do. We met at the University of Portsmouth's 2022 Business Consultancy Project and instantly connected, as Neurodivergent people do. He is driven, extremely intelligent, passionate about his work and how he can make it deliver change for humanity, and in everything he does, puts integrity first. Rebecca Leopard CMO, Upgrading Women UK I highly recommend Dr Shah Siddiqui as a mentor to anyone seeking guidance and support in navigating the challenges of entrepreneurship as an immigrant, person of colour, or neurodiverse individual. Shah's wealth of experience and expertise, combined with his compassionate and supportive approach, make him an invaluable resource for anyone looking to achieve their business goals and overcome obstacles along the way. He truly embodies the spirit of resilience and determination, and I feel fortunate to have had the opportunity to work with him. Naomi Smy Operational Hub Lead, Solent LEP Shah has dedicated himself to supporting our Enterprise Adviser roles across the Solent region. This role essentially connects education and industry together for the good of young people and helping to prepare them for the world of work. This is achieved by working with schools in a strategic way and developing/enhancing Careers education and guidance. Shah has been an inspiration since he started, networking with other Enterprise Advisers, supporting events and sharing his own personal experiences and challenges. Jack Smith Property investor, Jack Property Services Shah has been a massive help to me in building my business and the website he has made for me is going to play a big part in building the business. He also helps out a lot of students at Portsmouth University with their business and I'm grateful for him doing so. Clair Martin Founding Director, Seekers Create C.I.C Dr Shah is a kind and clever person who has overcome many life challenges. He is highly motivated and dedicated to making a positive change in our community. I enjoy working with Dr Shah and believe he will succeed. Cora Burke CEO, Frascati Associates Ltd Shah is a force of nature - which is probably why we get along the way we do. We met at the University of Portsmouth's 2022 Business Consultancy Project and instantly connected, as Neurodivergent people do. He is driven, extremely intelligent, passionate about his work and how he can make it deliver change for humanity, and in everything he does, puts integrity first. Rebecca Leopard CMO, Upgrading Women UK I highly recommend Dr Shah Siddiqui as a mentor to anyone seeking guidance and support in navigating the challenges of entrepreneurship as an immigrant, person of colour, or neurodiverse individual. Shah's wealth of experience and expertise, combined with his compassionate and supportive approach, make him an invaluable resource for anyone looking to achieve their business goals and overcome obstacles along the way. He truly embodies the spirit of resilience and determination, and I feel fortunate to have had the opportunity to work with him. Naomi Smy Operational Hub Lead, Solent LEP Shah has dedicated himself to supporting our Enterprise Adviser roles across the Solent region. This role essentially connects education and industry together for the good of young people and helping to prepare them for the world of work. This is achieved by working with schools in a strategic way and developing/enhancing Careers education and guidance. Shah has been an inspiration since he started, networking with other Enterprise Advisers, supporting events and sharing his own personal experiences and challenges. Jack Smith Property investor, Jack Property Services Shah has been a massive help to me in building my business and the website he has made for me is going to play a big part in building the business. He also helps out a lot of students at Portsmouth University with their business and I'm grateful for him doing so. Clair Martin Founding Director, Seekers Create C.I.C Dr Shah is a kind and clever person who has overcome many life challenges. He is highly motivated and dedicated to making a positive change in our community. I enjoy working with Dr Shah and believe he will succeed. 1 2 3 4 5 Testimonials What Our Clients Say We have many happy clients who are delighted with our service and we have included some of their                            testimonials her for you to understand their satisfaction. Give Us Compliments Our Specialists Our Successful Team James Buckley Public Relations and Copywriting Specialist Mahzabin Akter Marketing Executive & Copywriter Tamanna Turin Marketing Executive & Copywriter Dr Shah Siddiqui Social Selling Expert James Buckley Public Relations and Copywriting Specialist Mahzabin Akter Marketing Executive & Copywriter Tamanna Turin Marketing Executive & Copywriter Dr Shah Siddiqui Social Selling Expert James Buckley Public Relations and Copywriting Specialist Mahzabin Akter Marketing Executive & Copywriter Tamanna Turin Marketing Executive & Copywriter 1 2 3 4 Talk to Us Schedule a 30-minute Free Discovery Consultation A Discovery Consultation will help you to understand your market proposition and current marketing strategy. You will also discover ways of lead generation procedure and how you utilise the best option for your business growth. Get In Touch Do you need LinkedIn Account Analysis? Please contact us for a free LinkedIn account analysis and to know more about lead                                        generation success. Our expert LinkedIn team will find a best suitable tailored campaing and account                                        services for you to get more business. Submit Now Our Blog Read Our Latest News Marketing 07 March 2023 By Mahzabin Akter Factors that Affect Portfolio Allocation Read More Marketing 07 March 2023 By Dr Shah Siddiqui Is brand engagement necessary? Read More Marketing 31 March 2023 By Dr Shah Siddiqui The Neurodivergent Business Consortium (NBC) presents: Penny Mordaunt MP Read More Marketing 07 March 2023 By James Buckley Improve your Social presence through Social media management Read More Marketing 02 April 2023 By James Buckley What is Social media marketing? Read More Application 02 April 2023 By James Buckley The necessity of web application development Read More Marketing 07 March 2023 By Dr Shah Siddiqui How Lead Generation Works? Read More Marketing 17 April 2023 By Tamanna Turin How to Increase Web Traffic Using LinkedIn? Read More Marketing 17 April 2023 By Tamanna Turin Instagram Metrics You Should Be Tracking Read More Marketing 25 April 2023 By James Buckley What is Return On Investment (ROI)? Read More Content and Copywriting 11 March 2023 By Dr Shah Siddiqui How ChatGPT can help you to write the company and personal content? Read More Marketing 07 March 2023 By Dr Shah Siddiqui Can Community Service grow your business? Read More SEO 04 July 2024 By Mahzabin Akter Best SEO Agency for Higher Education Read More TESTIMONIALS Submit Now Halpern House, 1-2 Hampshire Terrace, Portsmouth, PO1 2QF +44 (0) 238 094 3967 leadgen@genzmarketing.xyz hello@genzmarketing.xyz Our Links Home About Us FAQs Blog Contact Us Subscribe to Newsletter ! We publish our newsletter with the most up to date information regularly. Please suscribe it to know our work, current affears and services. Subscribe Now Web Development & Copyright © 2023 Time research & innovation Ltd All rights reserved. Privacy Policy Terms and Conditions Submit Now\n"
     ]
    }
   ],
   "source": [
    "print(data['content'][1])"
   ]
  },
  {
   "cell_type": "code",
   "execution_count": 53,
   "metadata": {},
   "outputs": [
    {
     "data": {
      "text/html": [
       "<div>\n",
       "<style scoped>\n",
       "    .dataframe tbody tr th:only-of-type {\n",
       "        vertical-align: middle;\n",
       "    }\n",
       "\n",
       "    .dataframe tbody tr th {\n",
       "        vertical-align: top;\n",
       "    }\n",
       "\n",
       "    .dataframe thead th {\n",
       "        text-align: right;\n",
       "    }\n",
       "</style>\n",
       "<table border=\"1\" class=\"dataframe\">\n",
       "  <thead>\n",
       "    <tr style=\"text-align: right;\">\n",
       "      <th></th>\n",
       "      <th>title</th>\n",
       "      <th>url</th>\n",
       "      <th>content</th>\n",
       "    </tr>\n",
       "  </thead>\n",
       "  <tbody>\n",
       "    <tr>\n",
       "      <th>0</th>\n",
       "      <td>Grow Your Brand with GenZ Marketing's Full Dig...</td>\n",
       "      <td>https://genzmarketing.xyz</td>\n",
       "      <td>Grow Your Brand with GenZ Marketing's Full Dig...</td>\n",
       "    </tr>\n",
       "    <tr>\n",
       "      <th>1</th>\n",
       "      <td>Grow Your Brand with GenZ Marketing's Full Dig...</td>\n",
       "      <td>https://genzmarketing.xyz</td>\n",
       "      <td>Grow Your Brand with GenZ Marketing's Full Dig...</td>\n",
       "    </tr>\n",
       "    <tr>\n",
       "      <th>2</th>\n",
       "      <td>About Us</td>\n",
       "      <td>https://genzmarketing.xyz/about_us</td>\n",
       "      <td>About Us Home About Us Services Portfolio Book...</td>\n",
       "    </tr>\n",
       "    <tr>\n",
       "      <th>3</th>\n",
       "      <td>Services GenZMarketing</td>\n",
       "      <td>https://genzmarketing.xyz/services</td>\n",
       "      <td>Services GenZMarketing Home About Us Services ...</td>\n",
       "    </tr>\n",
       "    <tr>\n",
       "      <th>4</th>\n",
       "      <td>Portfolio</td>\n",
       "      <td>https://genzmarketing.xyz/portfolio</td>\n",
       "      <td>Portfolio Home About Us Services Portfolio Boo...</td>\n",
       "    </tr>\n",
       "  </tbody>\n",
       "</table>\n",
       "</div>"
      ],
      "text/plain": [
       "                                               title  \\\n",
       "0  Grow Your Brand with GenZ Marketing's Full Dig...   \n",
       "1  Grow Your Brand with GenZ Marketing's Full Dig...   \n",
       "2                                           About Us   \n",
       "3                             Services GenZMarketing   \n",
       "4                                          Portfolio   \n",
       "\n",
       "                                   url  \\\n",
       "0            https://genzmarketing.xyz   \n",
       "1            https://genzmarketing.xyz   \n",
       "2   https://genzmarketing.xyz/about_us   \n",
       "3   https://genzmarketing.xyz/services   \n",
       "4  https://genzmarketing.xyz/portfolio   \n",
       "\n",
       "                                             content  \n",
       "0  Grow Your Brand with GenZ Marketing's Full Dig...  \n",
       "1  Grow Your Brand with GenZ Marketing's Full Dig...  \n",
       "2  About Us Home About Us Services Portfolio Book...  \n",
       "3  Services GenZMarketing Home About Us Services ...  \n",
       "4  Portfolio Home About Us Services Portfolio Boo...  "
      ]
     },
     "execution_count": 53,
     "metadata": {},
     "output_type": "execute_result"
    }
   ],
   "source": [
    "# Remove extra spaces from 'title' and 'content' columns\n",
    "data['title'] = data['title'].str.replace(r'\\s+', ' ', regex=True).str.strip()\n",
    "data['content'] = data['content'].str.replace(r'\\s+', ' ', regex=True).str.strip()\n",
    "\n",
    "# Display the cleaned dataset\n",
    "data.head(5)"
   ]
  },
  {
   "cell_type": "code",
   "execution_count": 54,
   "metadata": {},
   "outputs": [
    {
     "name": "stdout",
     "output_type": "stream",
     "text": [
      "Grow Your Brand with GenZ Marketing's Full Digital Marketing Solutions Home About Us Services Portfolio Books Packages Blog Contact Us Get Started Mastering Cold Email Marketing to Captivate the Next Generation! The Ultimate Guide to Cold Email Marketing Success! Our GenZ Cold Email Marketing service is tailored to resonate with the preferences of the next generation. With personalized, relevant, and concise messaging, we cut through the clutter to engage Gen Z recipients effectively. Leveraging data-driven insights and creative content, we drive higher open rates, click-through, and conversions. Build authentic connections and grow your brand's influence among Gen Z with our expert cold email strategies. Get Started INCREASE social selling & your business visibility With our Proven Marketing and Social Selling Strategies You can work with us to increase your social presence and get 100s of qualified prospects every week. Our expert account executives will work with you nonstop to grow your network with a plan and target. Get started with our award-winning Marketing and Accelerator Programme to unleash the power of Social Selling and Cold outreach. It will not only improve your visibility; it will also increase your sales and business growth. Get Started Influence audience with GenZ video advertisements Elevate your brand to reach globally Whether it's for social media, website banners, or YouTube, we tailor each video to tell your unique brand story. With visually stunning visuals and engaging storytelling, our video ads will drive engagement, boost conversions, and elevate your brand's online presence. Let's make your brand the talk of the town with GenZ video advertisements. Get Started Content and Copywriting Strategies for the Next Generation! A strategic content and copy approach allows your brand to stay adaptable and responsive to changing trends. Our Gen Z Marketing Content and Copywriting service empowers brands to connect authentically with the next generation. By crafting engaging, trend-savvy content, we unlock Gen Z's buying potential, boost brand loyalty, and drive conversions. Stay ahead of the competition, maximize social media impact, and future-proof your brand with our adaptable and results-driven approach. Get Started Elevate Your Brand with Innovative Graphics Design! Empowering Your Brand's Voice with Gen Z-Centric Graphics Design! Our Gen Z Marketing Graphics Design Service helps brands make a lasting impact on the next generation. We create visually captivating and trend-focused designs that resonate with Gen Z's preferences and values. From social media graphics to website elements, our solutions ensure your brand stays relevant and engaging, maximizing its appeal to this influential audience. Get Started Empowering Your Team with Training and nailing it with Smart Mentoring! Mastering Gen Z: Training and Mentoring for Next-Gen Marketing Success! Empower your marketing team with specialized Gen Z training, equipping them to understand this unique demographic’s preferences and behaviours. Stay ahead of the curve by smartly mentoring campaigns, tracking social media engagement, content performance, and influencer impact. Stay authentic, data-driven, and innovative to succeed in connecting with the influential Gen Z audience. Get Started Mastering Cold Email Marketing to Captivate the Next Generation! The Ultimate Guide to Cold Email Marketing Success! Our GenZ Cold Email Marketing service is tailored to resonate with the preferences of the next generation. With personalized, relevant, and concise messaging, we cut through the clutter to engage Gen Z recipients effectively. Leveraging data-driven insights and creative content, we drive higher open rates, click-through, and conversions. Build authentic connections and grow your brand's influence among Gen Z with our expert cold email strategies. Get Started INCREASE social selling & your business visibility With our Proven Marketing and Social Selling Strategies You can work with us to increase your social presence and get 100s of qualified prospects every week. Our expert account executives will work with you nonstop to grow your network with a plan and target. Get started with our award-winning Marketing and Accelerator Programme to unleash the power of Social Selling and Cold outreach. It will not only improve your visibility; it will also increase your sales and business growth. Get Started Influence audience with GenZ video advertisements Elevate your brand to reach globally Whether it's for social media, website banners, or YouTube, we tailor each video to tell your unique brand story. With visually stunning visuals and engaging storytelling, our video ads will drive engagement, boost conversions, and elevate your brand's online presence. Let's make your brand the talk of the town with GenZ video advertisements. Get Started Content and Copywriting Strategies for the Next Generation! A strategic content and copy approach allows your brand to stay adaptable and responsive to changing trends. Our Gen Z Marketing Content and Copywriting service empowers brands to connect authentically with the next generation. By crafting engaging, trend-savvy content, we unlock Gen Z's buying potential, boost brand loyalty, and drive conversions. Stay ahead of the competition, maximize social media impact, and future-proof your brand with our adaptable and results-driven approach. Get Started Elevate Your Brand with Innovative Graphics Design! Empowering Your Brand's Voice with Gen Z-Centric Graphics Design! Our Gen Z Marketing Graphics Design Service helps brands make a lasting impact on the next generation. We create visually captivating and trend-focused designs that resonate with Gen Z's preferences and values. From social media graphics to website elements, our solutions ensure your brand stays relevant and engaging, maximizing its appeal to this influential audience. Get Started Empowering Your Team with Training and nailing it with Smart Mentoring! Mastering Gen Z: Training and Mentoring for Next-Gen Marketing Success! Empower your marketing team with specialized Gen Z training, equipping them to understand this unique demographic’s preferences and behaviours. Stay ahead of the curve by smartly mentoring campaigns, tracking social media engagement, content performance, and influencer impact. Stay authentic, data-driven, and innovative to succeed in connecting with the influential Gen Z audience. Get Started Mastering Cold Email Marketing to Captivate the Next Generation! The Ultimate Guide to Cold Email Marketing Success! Our GenZ Cold Email Marketing service is tailored to resonate with the preferences of the next generation. With personalized, relevant, and concise messaging, we cut through the clutter to engage Gen Z recipients effectively. Leveraging data-driven insights and creative content, we drive higher open rates, click-through, and conversions. Build authentic connections and grow your brand's influence among Gen Z with our expert cold email strategies. Get Started 1 2 3 4 5 6 Free Book How to Win in Social Selling? Download this eBook to master in social selling and business growth. When we talk about social selling, it is very difficult for many of us to predict the right formula/s. It is like matchmaking to get a boyfriend or girlfriend. One setting with someone will never satisfy us and we will find some problems to escape them to the next one. It will never stop unless we consider some of our choices. It is common for us when we think of social media that we want: - To engage in social media platforms To research your customer To invest in online presence To create content and contribute new knowledge To become an influencer or social media superstar To boost sales and business growth Download eBook About Social Selling & LinkedIn Marketing Our priority at the GenZ Social Selling and LinkedIn Marketing Services is to understand our client's big idea. We know a product or service is the brainchild of our client's imagination and to work with them we have to place ourselves in the same shoe. Besides, we also know every business is different. Therefore, we will work with our client to create a tailored plan. Understand the product, market proposition, and the audience. Create detailed, dedicated, and targeted social selling plans. Collect audience information to understand their needs. Social media platforms like LinkedIn offer powerful tools for identifying and connecting with potential leads. Establish business relations with each user to extend the network. Through Our Campaign Become a LinkedIn Superstar GenZ Lead Gen & Marketing LinkedIn Lead Generation GenZ Branding LinkedIn Superstar Send a Virtual Hug Running a Small Business? Do you want your company to stand out? Chess isn't always competitive, chess can also be beautiful… Make your own great videos faster than poppin' popcorn Happy hydration day You'll do all the dancing! GenZ Lead Gen & Marketing LinkedIn Lead Generation GenZ Branding LinkedIn Superstar Send a Virtual Hug Running a Small Business? Do you want your company to stand out? Chess isn't always competitive, chess can also be beautiful… Make your own great videos faster than poppin' popcorn Happy hydration day You'll do all the dancing! GenZ Lead Gen & Marketing 1 2 3 4 5 6 7 8 9 10 11 0 Ongoing Projects 0 Projects Completed 0 Our Happy Clients 0 Web Traffic Per Monthly Our Services How Our Expert Team Can Help Contents & Copywriting We can help whether you are a business owner, marketer, or an individual looking for excellent written materials... Social Media Management The best place to go for all of your social media management requirements is here. Our website is your go-to resource for efficiently managing and maximizing your social media presence, regardless of whether you are a business owner, marketer, or influencer. Cold Email Marketing We have a dedicated cold email application for our clients to design and send emails. Either you can register yourself with a monthly service plan or we will run the end-to-end service for you with our dedicated account managers and executives... Social Media Campaign We research and understand the market to prepare our Social Media Campaign. Our dedicated LinkedIn manager will check the performance of each campaign to understand the market and audience reach... Coaching & Training We know training and specific subject knowledge is the core of personal development and we have the experience to develop training materials for our clients and target audience. Our dedicated trainers will work with you to lay out the appropriate materials to attract new customers through an in-person and online webinar. PR & Communications Our public relations (PR) and communications help our enterprises, nonprofits, or public institutions to manage all media and communication channels to develop, preserve, and manage our client's reputations. Our dedicated team will help you to get your stories published in national, local, and international newspapers and all sorts of main stream publications. View All Services Our Portfolio How We Can Help View All Protfolio Competitive Analysis Product, Service & Concept Development Marketing Digital Marketing Case Studies Marketing Services and Business Building/Mentoring Programme PR & Communications Public Relation & Business Expansion Cold Email Marketing Email marketing Social Media Management Account management & Run Social Media Campaign Campaign design & Run Branding Logo, Graphics and Branding Training & Mentoring In-person Event & Online Webinar Graphic Designing Social Media Info Graphic Content & Copywriting Newsletter, Content and Copywriting Video Advertisement TV, and Social Media Video AD Social Media Marketing Account management and Email Marketing Competitive Analysis Product, Service & Concept Development Marketing Digital Marketing Case Studies Marketing Services and Business Building/Mentoring Programme PR & Communications Public Relation & Business Expansion Cold Email Marketing Email marketing Social Media Management Account management & Run Social Media Campaign Campaign design & Run Branding Logo, Graphics and Branding Training & Mentoring In-person Event & Online Webinar Graphic Designing Social Media Info Graphic Content & Copywriting Newsletter, Content and Copywriting Video Advertisement TV, and Social Media Video AD Social Media Marketing Account management and Email Marketing Competitive Analysis Product, Service & Concept Development Marketing Digital Marketing 1 2 3 4 5 6 7 8 9 10 11 12 13 Clair Martin Founding Director, Seekers Create C.I.C Dr Shah is a kind and clever person who has overcome many life challenges. He is highly motivated and dedicated to making a positive change in our community. I enjoy working with Dr Shah and believe he will succeed. Cora Burke CEO, Frascati Associates Ltd Shah is a force of nature - which is probably why we get along the way we do. We met at the University of Portsmouth's 2022 Business Consultancy Project and instantly connected, as Neurodivergent people do. He is driven, extremely intelligent, passionate about his work and how he can make it deliver change for humanity, and in everything he does, puts integrity first. Rebecca Leopard CMO, Upgrading Women UK I highly recommend Dr Shah Siddiqui as a mentor to anyone seeking guidance and support in navigating the challenges of entrepreneurship as an immigrant, person of colour, or neurodiverse individual. Shah's wealth of experience and expertise, combined with his compassionate and supportive approach, make him an invaluable resource for anyone looking to achieve their business goals and overcome obstacles along the way. He truly embodies the spirit of resilience and determination, and I feel fortunate to have had the opportunity to work with him. Naomi Smy Operational Hub Lead, Solent LEP Shah has dedicated himself to supporting our Enterprise Adviser roles across the Solent region. This role essentially connects education and industry together for the good of young people and helping to prepare them for the world of work. This is achieved by working with schools in a strategic way and developing/enhancing Careers education and guidance. Shah has been an inspiration since he started, networking with other Enterprise Advisers, supporting events and sharing his own personal experiences and challenges. Jack Smith Property investor, Jack Property Services Shah has been a massive help to me in building my business and the website he has made for me is going to play a big part in building the business. He also helps out a lot of students at Portsmouth University with their business and I'm grateful for him doing so. Clair Martin Founding Director, Seekers Create C.I.C Dr Shah is a kind and clever person who has overcome many life challenges. He is highly motivated and dedicated to making a positive change in our community. I enjoy working with Dr Shah and believe he will succeed. Cora Burke CEO, Frascati Associates Ltd Shah is a force of nature - which is probably why we get along the way we do. We met at the University of Portsmouth's 2022 Business Consultancy Project and instantly connected, as Neurodivergent people do. He is driven, extremely intelligent, passionate about his work and how he can make it deliver change for humanity, and in everything he does, puts integrity first. Rebecca Leopard CMO, Upgrading Women UK I highly recommend Dr Shah Siddiqui as a mentor to anyone seeking guidance and support in navigating the challenges of entrepreneurship as an immigrant, person of colour, or neurodiverse individual. Shah's wealth of experience and expertise, combined with his compassionate and supportive approach, make him an invaluable resource for anyone looking to achieve their business goals and overcome obstacles along the way. He truly embodies the spirit of resilience and determination, and I feel fortunate to have had the opportunity to work with him. Naomi Smy Operational Hub Lead, Solent LEP Shah has dedicated himself to supporting our Enterprise Adviser roles across the Solent region. This role essentially connects education and industry together for the good of young people and helping to prepare them for the world of work. This is achieved by working with schools in a strategic way and developing/enhancing Careers education and guidance. Shah has been an inspiration since he started, networking with other Enterprise Advisers, supporting events and sharing his own personal experiences and challenges. Jack Smith Property investor, Jack Property Services Shah has been a massive help to me in building my business and the website he has made for me is going to play a big part in building the business. He also helps out a lot of students at Portsmouth University with their business and I'm grateful for him doing so. Clair Martin Founding Director, Seekers Create C.I.C Dr Shah is a kind and clever person who has overcome many life challenges. He is highly motivated and dedicated to making a positive change in our community. I enjoy working with Dr Shah and believe he will succeed. 1 2 3 4 5 Testimonials What Our Clients Say We have many happy clients who are delighted with our service and we have included some of their testimonials her for you to understand their satisfaction. Give Us Compliments Our Specialists Our Successful Team James Buckley Public Relations and Copywriting Specialist Mahzabin Akter Marketing Executive & Copywriter Tamanna Turin Marketing Executive & Copywriter Dr Shah Siddiqui Social Selling Expert James Buckley Public Relations and Copywriting Specialist Mahzabin Akter Marketing Executive & Copywriter Tamanna Turin Marketing Executive & Copywriter Dr Shah Siddiqui Social Selling Expert James Buckley Public Relations and Copywriting Specialist Mahzabin Akter Marketing Executive & Copywriter Tamanna Turin Marketing Executive & Copywriter 1 2 3 4 Talk to Us Schedule a 30-minute Free Discovery Consultation A Discovery Consultation will help you to understand your market proposition and current marketing strategy. You will also discover ways of lead generation procedure and how you utilise the best option for your business growth. Get In Touch Do you need LinkedIn Account Analysis? Please contact us for a free LinkedIn account analysis and to know more about lead generation success. Our expert LinkedIn team will find a best suitable tailored campaing and account services for you to get more business. Submit Now Our Blog Read Our Latest News Marketing 07 March 2023 By Mahzabin Akter Factors that Affect Portfolio Allocation Read More Marketing 07 March 2023 By Dr Shah Siddiqui Is brand engagement necessary? Read More Marketing 31 March 2023 By Dr Shah Siddiqui The Neurodivergent Business Consortium (NBC) presents: Penny Mordaunt MP Read More Marketing 07 March 2023 By James Buckley Improve your Social presence through Social media management Read More Marketing 02 April 2023 By James Buckley What is Social media marketing? Read More Application 02 April 2023 By James Buckley The necessity of web application development Read More Marketing 07 March 2023 By Dr Shah Siddiqui How Lead Generation Works? Read More Marketing 17 April 2023 By Tamanna Turin How to Increase Web Traffic Using LinkedIn? Read More Marketing 17 April 2023 By Tamanna Turin Instagram Metrics You Should Be Tracking Read More Marketing 25 April 2023 By James Buckley What is Return On Investment (ROI)? Read More Content and Copywriting 11 March 2023 By Dr Shah Siddiqui How ChatGPT can help you to write the company and personal content? Read More Marketing 07 March 2023 By Dr Shah Siddiqui Can Community Service grow your business? Read More SEO 04 July 2024 By Mahzabin Akter Best SEO Agency for Higher Education Read More TESTIMONIALS Submit Now Halpern House, 1-2 Hampshire Terrace, Portsmouth, PO1 2QF +44 (0) 238 094 3967 leadgen@genzmarketing.xyz hello@genzmarketing.xyz Our Links Home About Us FAQs Blog Contact Us Subscribe to Newsletter ! We publish our newsletter with the most up to date information regularly. Please suscribe it to know our work, current affears and services. Subscribe Now Web Development & Copyright © 2023 Time research & innovation Ltd All rights reserved. Privacy Policy Terms and Conditions Submit Now\n"
     ]
    }
   ],
   "source": [
    "print(data['content'][1])"
   ]
  },
  {
   "cell_type": "code",
   "execution_count": 55,
   "metadata": {},
   "outputs": [
    {
     "data": {
      "text/plain": [
       "0      Grow Your Brand with GenZ Marketing's Full Dig...\n",
       "1      Grow Your Brand with GenZ Marketing's Full Dig...\n",
       "2                                               About Us\n",
       "3                                 Services GenZMarketing\n",
       "4                                              Portfolio\n",
       "                             ...                        \n",
       "173             Attempt to read property \"title\" on null\n",
       "174             Attempt to read property \"title\" on null\n",
       "175                                         Home Timerni\n",
       "176                             Site Information Timerni\n",
       "177                             Site Information Timerni\n",
       "Name: title, Length: 178, dtype: object"
      ]
     },
     "execution_count": 55,
     "metadata": {},
     "output_type": "execute_result"
    }
   ],
   "source": [
    "data['title']"
   ]
  },
  {
   "cell_type": "code",
   "execution_count": 56,
   "metadata": {},
   "outputs": [
    {
     "data": {
      "text/plain": [
       "0                          https://genzmarketing.xyz\n",
       "1                          https://genzmarketing.xyz\n",
       "2                 https://genzmarketing.xyz/about_us\n",
       "3                 https://genzmarketing.xyz/services\n",
       "4                https://genzmarketing.xyz/portfolio\n",
       "                           ...                      \n",
       "173    https://genzmarketing.xyz/javascript:void(0);\n",
       "174    https://genzmarketing.xyz/javascript:void(0);\n",
       "175                             https://timerni.com/\n",
       "176       https://timerni.com/setting/privacy-policy\n",
       "177      https://timerni.com/setting/terms-condition\n",
       "Name: url, Length: 178, dtype: object"
      ]
     },
     "execution_count": 56,
     "metadata": {},
     "output_type": "execute_result"
    }
   ],
   "source": [
    "data['url']"
   ]
  },
  {
   "cell_type": "code",
   "execution_count": 57,
   "metadata": {},
   "outputs": [
    {
     "data": {
      "text/plain": [
       "0      Grow Your Brand with GenZ Marketing's Full Dig...\n",
       "1      Grow Your Brand with GenZ Marketing's Full Dig...\n",
       "2      About Us Home About Us Services Portfolio Book...\n",
       "3      Services GenZMarketing Home About Us Services ...\n",
       "4      Portfolio Home About Us Services Portfolio Boo...\n",
       "                             ...                        \n",
       "173    Attempt to read property \"title\" on null Spati...\n",
       "174    Attempt to read property \"title\" on null Spati...\n",
       "175    Home Timerni Home Services Projects Contact Us...\n",
       "176    Site Information Timerni Home Services Project...\n",
       "177    Site Information Timerni Home Services Project...\n",
       "Name: content, Length: 178, dtype: object"
      ]
     },
     "execution_count": 57,
     "metadata": {},
     "output_type": "execute_result"
    }
   ],
   "source": [
    "data['content']"
   ]
  },
  {
   "cell_type": "code",
   "execution_count": 58,
   "metadata": {},
   "outputs": [
    {
     "name": "stdout",
     "output_type": "stream",
     "text": [
      "Data cleaning complete. Saved as cleaned_genzmarketing_data.csv.\n"
     ]
    }
   ],
   "source": [
    "# Save the cleaned data\n",
    "cleaned_data = pd.DataFrame(data)\n",
    "cleaned_data.to_csv('cleaned_genzmarketing_data.csv', index=False)\n",
    "print(\"Data cleaning complete. Saved as cleaned_genzmarketing_data.csv.\")"
   ]
  },
  {
   "cell_type": "code",
   "execution_count": null,
   "metadata": {},
   "outputs": [],
   "source": []
  }
 ],
 "metadata": {
  "kernelspec": {
   "display_name": "venv",
   "language": "python",
   "name": "python3"
  },
  "language_info": {
   "codemirror_mode": {
    "name": "ipython",
    "version": 3
   },
   "file_extension": ".py",
   "mimetype": "text/x-python",
   "name": "python",
   "nbconvert_exporter": "python",
   "pygments_lexer": "ipython3",
   "version": "3.11.0"
  }
 },
 "nbformat": 4,
 "nbformat_minor": 2
}
