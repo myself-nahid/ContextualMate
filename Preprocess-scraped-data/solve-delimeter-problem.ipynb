{
 "cells": [
  {
   "cell_type": "code",
   "execution_count": 2,
   "id": "dac24e04",
   "metadata": {},
   "outputs": [],
   "source": [
    "import pandas as pd"
   ]
  },
  {
   "cell_type": "code",
   "execution_count": 4,
   "id": "36c0ef79",
   "metadata": {},
   "outputs": [],
   "source": [
    "df = pd.read_csv(r\"D:\\TRIL-INTERN\\TASK01\\preprocess-scraped-data\\cleaned_genzmarketing_data.csv\")\n"
   ]
  },
  {
   "cell_type": "code",
   "execution_count": 5,
   "id": "67a958f8",
   "metadata": {},
   "outputs": [
    {
     "data": {
      "text/html": [
       "<div>\n",
       "<style scoped>\n",
       "    .dataframe tbody tr th:only-of-type {\n",
       "        vertical-align: middle;\n",
       "    }\n",
       "\n",
       "    .dataframe tbody tr th {\n",
       "        vertical-align: top;\n",
       "    }\n",
       "\n",
       "    .dataframe thead th {\n",
       "        text-align: right;\n",
       "    }\n",
       "</style>\n",
       "<table border=\"1\" class=\"dataframe\">\n",
       "  <thead>\n",
       "    <tr style=\"text-align: right;\">\n",
       "      <th></th>\n",
       "      <th>title</th>\n",
       "      <th>url</th>\n",
       "      <th>content</th>\n",
       "    </tr>\n",
       "  </thead>\n",
       "  <tbody>\n",
       "    <tr>\n",
       "      <th>0</th>\n",
       "      <td>Grow Your Brand with GenZ Marketing's Full Dig...</td>\n",
       "      <td>https://genzmarketing.xyz</td>\n",
       "      <td>Grow Your Brand with GenZ Marketing's Full Dig...</td>\n",
       "    </tr>\n",
       "    <tr>\n",
       "      <th>1</th>\n",
       "      <td>Grow Your Brand with GenZ Marketing's Full Dig...</td>\n",
       "      <td>https://genzmarketing.xyz</td>\n",
       "      <td>Grow Your Brand with GenZ Marketing's Full Dig...</td>\n",
       "    </tr>\n",
       "    <tr>\n",
       "      <th>2</th>\n",
       "      <td>About Us</td>\n",
       "      <td>https://genzmarketing.xyz/about_us</td>\n",
       "      <td>About Us Home About Us Services Portfolio Book...</td>\n",
       "    </tr>\n",
       "    <tr>\n",
       "      <th>3</th>\n",
       "      <td>Services GenZMarketing</td>\n",
       "      <td>https://genzmarketing.xyz/services</td>\n",
       "      <td>Services GenZMarketing Home About Us Services ...</td>\n",
       "    </tr>\n",
       "    <tr>\n",
       "      <th>4</th>\n",
       "      <td>Portfolio</td>\n",
       "      <td>https://genzmarketing.xyz/portfolio</td>\n",
       "      <td>Portfolio Home About Us Services Portfolio Boo...</td>\n",
       "    </tr>\n",
       "  </tbody>\n",
       "</table>\n",
       "</div>"
      ],
      "text/plain": [
       "                                               title  \\\n",
       "0  Grow Your Brand with GenZ Marketing's Full Dig...   \n",
       "1  Grow Your Brand with GenZ Marketing's Full Dig...   \n",
       "2                                           About Us   \n",
       "3                             Services GenZMarketing   \n",
       "4                                          Portfolio   \n",
       "\n",
       "                                   url  \\\n",
       "0            https://genzmarketing.xyz   \n",
       "1            https://genzmarketing.xyz   \n",
       "2   https://genzmarketing.xyz/about_us   \n",
       "3   https://genzmarketing.xyz/services   \n",
       "4  https://genzmarketing.xyz/portfolio   \n",
       "\n",
       "                                             content  \n",
       "0  Grow Your Brand with GenZ Marketing's Full Dig...  \n",
       "1  Grow Your Brand with GenZ Marketing's Full Dig...  \n",
       "2  About Us Home About Us Services Portfolio Book...  \n",
       "3  Services GenZMarketing Home About Us Services ...  \n",
       "4  Portfolio Home About Us Services Portfolio Boo...  "
      ]
     },
     "execution_count": 5,
     "metadata": {},
     "output_type": "execute_result"
    }
   ],
   "source": [
    "df.head()"
   ]
  },
  {
   "cell_type": "code",
   "execution_count": 8,
   "id": "e8e14966",
   "metadata": {},
   "outputs": [
    {
     "name": "stdout",
     "output_type": "stream",
     "text": [
      "Loaded 178 rows successfully\n"
     ]
    }
   ],
   "source": [
    "\n",
    "try:\n",
    "    file_path = r\"D:\\TRIL-INTERN\\TASK01\\preprocess-scraped-data\\cleaned_genzmarketing_data.csv\"\n",
    "    df = pd.read_csv(file_path, on_bad_lines='skip')\n",
    "    print(f\"Loaded {df.shape[0]} rows successfully\")\n",
    "except Exception as e:\n",
    "    print(f\"Error reading CSV: {e}\")\n",
    "\n"
   ]
  },
  {
   "cell_type": "code",
   "execution_count": 9,
   "id": "c386e1e0",
   "metadata": {},
   "outputs": [
    {
     "name": "stdout",
     "output_type": "stream",
     "text": [
      "Cleaned CSV saved at: D:\\TRIL-INTERN\\TASK01\\preprocess-scraped-data\\cleaned_genzmarketing_data_cleaned.csv\n"
     ]
    }
   ],
   "source": [
    "cleaned_file_path = r\"D:\\TRIL-INTERN\\TASK01\\preprocess-scraped-data\\cleaned_genzmarketing_data_cleaned.csv\"\n",
    "df.to_csv(cleaned_file_path, index=False)\n",
    "print(f\"Cleaned CSV saved at: {cleaned_file_path}\")"
   ]
  },
  {
   "cell_type": "code",
   "execution_count": 17,
   "id": "dc16e0e4",
   "metadata": {},
   "outputs": [],
   "source": [
    "import csv\n",
    "import pandas as pd\n",
    "\n",
    "file_path = r\"D:\\TRIL-INTERN\\TASK01\\preprocess-scraped-data\\cleaned_genzmarketing_data.csv\"\n",
    "df = pd.read_csv(file_path, quoting=csv.QUOTE_NONE, on_bad_lines='skip')\n",
    "\n"
   ]
  },
  {
   "cell_type": "code",
   "execution_count": 18,
   "id": "90e06b6c",
   "metadata": {},
   "outputs": [],
   "source": [
    "df = pd.read_csv(file_path, delimiter=';', on_bad_lines='skip')\n"
   ]
  },
  {
   "cell_type": "code",
   "execution_count": 19,
   "id": "ab3d7571",
   "metadata": {},
   "outputs": [],
   "source": [
    "df = pd.read_csv(file_path, on_bad_lines='skip')\n"
   ]
  },
  {
   "cell_type": "code",
   "execution_count": 20,
   "id": "2953b9ca",
   "metadata": {},
   "outputs": [
    {
     "ename": "TypeError",
     "evalue": "read_csv() got an unexpected keyword argument 'error_bad_lines'",
     "output_type": "error",
     "traceback": [
      "\u001b[1;31m---------------------------------------------------------------------------\u001b[0m",
      "\u001b[1;31mTypeError\u001b[0m                                 Traceback (most recent call last)",
      "Cell \u001b[1;32mIn[20], line 1\u001b[0m\n\u001b[1;32m----> 1\u001b[0m df \u001b[38;5;241m=\u001b[39m pd\u001b[38;5;241m.\u001b[39mread_csv(file_path, error_bad_lines\u001b[38;5;241m=\u001b[39m\u001b[38;5;28;01mFalse\u001b[39;00m)\n",
      "\u001b[1;31mTypeError\u001b[0m: read_csv() got an unexpected keyword argument 'error_bad_lines'"
     ]
    }
   ],
   "source": [
    "df = pd.read_csv(file_path, error_bad_lines=False)\n"
   ]
  },
  {
   "cell_type": "code",
   "execution_count": 21,
   "id": "b3f5922e",
   "metadata": {},
   "outputs": [],
   "source": [
    "df.to_csv(r\"D:\\TRIL-INTERN\\TASK01\\preprocess-scraped-data\\cleaned_genzmarketing_data_cleaned.csv\", index=False)\n"
   ]
  },
  {
   "cell_type": "code",
   "execution_count": null,
   "id": "1e78f507",
   "metadata": {},
   "outputs": [],
   "source": []
  }
 ],
 "metadata": {
  "kernelspec": {
   "display_name": "Python 3 (ipykernel)",
   "language": "python",
   "name": "python3"
  },
  "language_info": {
   "codemirror_mode": {
    "name": "ipython",
    "version": 3
   },
   "file_extension": ".py",
   "mimetype": "text/x-python",
   "name": "python",
   "nbconvert_exporter": "python",
   "pygments_lexer": "ipython3",
   "version": "3.11.5"
  }
 },
 "nbformat": 4,
 "nbformat_minor": 5
}
